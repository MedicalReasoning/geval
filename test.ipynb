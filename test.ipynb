{
 "cells": [
  {
   "cell_type": "code",
   "execution_count": 3,
   "metadata": {},
   "outputs": [
    {
     "name": "stdout",
     "output_type": "stream",
     "text": [
      "Number of files with all counts set to 0: 11\n",
      "Files with all counts set to 0:\n",
      "11.json\n",
      "24.json\n",
      "46.json\n",
      "103.json\n",
      "118.json\n",
      "127.json\n",
      "155.json\n",
      "162.json\n",
      "184.json\n",
      "239.json\n",
      "245.json\n"
     ]
    }
   ],
   "source": [
    "import json\n",
    "\n",
    "# Load the initialized counts from the JSON file\n",
    "input_file = 'combined_no_counts_results-medqa.json'\n",
    "\n",
    "with open(input_file, 'r') as json_file:\n",
    "    data = json.load(json_file)\n",
    "\n",
    "# Initialize a list to store names of files with all counts set to 0\n",
    "zero_count_files = []\n",
    "\n",
    "# Check each file's counts\n",
    "for file_name, counts in data.items():\n",
    "    if counts[\"consistency\"] == 0 and counts[\"correctness\"] == 0 and counts[\"explainability\"] == 0:\n",
    "        zero_count_files.append(file_name)\n",
    "\n",
    "# Count of files with all counts set to 0\n",
    "zero_count = len(zero_count_files)\n",
    "\n",
    "# Output the results\n",
    "print(f\"Number of files with all counts set to 0: {zero_count}\")\n",
    "print(\"Files with all counts set to 0:\")\n",
    "for file in zero_count_files:\n",
    "    print(file)"
   ]
  },
  {
   "cell_type": "code",
   "execution_count": null,
   "metadata": {},
   "outputs": [],
   "source": []
  }
 ],
 "metadata": {
  "kernelspec": {
   "display_name": "theanine_mjgwak",
   "language": "python",
   "name": "python3"
  },
  "language_info": {
   "codemirror_mode": {
    "name": "ipython",
    "version": 3
   },
   "file_extension": ".py",
   "mimetype": "text/x-python",
   "name": "python",
   "nbconvert_exporter": "python",
   "pygments_lexer": "ipython3",
   "version": "3.8.20"
  }
 },
 "nbformat": 4,
 "nbformat_minor": 2
}
